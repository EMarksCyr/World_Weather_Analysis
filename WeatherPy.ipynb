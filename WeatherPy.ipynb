{
 "cells": [
  {
   "cell_type": "code",
   "execution_count": 6,
   "metadata": {},
   "outputs": [],
   "source": [
    "#import the dependencies\n",
    "import pandas as pd\n",
    "import matplotlib.pyplot as plt\n",
    "import numpy as np\n"
   ]
  },
  {
   "cell_type": "code",
   "execution_count": 7,
   "metadata": {},
   "outputs": [
    {
     "data": {
      "text/plain": [
       "<zip at 0x279ee340688>"
      ]
     },
     "execution_count": 7,
     "metadata": {},
     "output_type": "execute_result"
    }
   ],
   "source": [
    "#create the set of random longitudes and latitudes using the np method with the ranom uniform function practice in random_numbers.ipynb\n",
    "lats = np.random.uniform(-90.000, 90.000, size= 1500)\n",
    "lngs = np.random.uniform(-180.000, 180.000, size = 1500)\n",
    "\n",
    "#pack the lats and longs together by zipping them with the zip() function\n",
    "lat_lngs = zip(lats, lngs)\n",
    "lat_lngs"
   ]
  },
  {
   "cell_type": "code",
   "execution_count": 8,
   "metadata": {},
   "outputs": [],
   "source": [
    "#add the latitudes and longitudes to a list (they have been stored as a zip object)\n",
    "#you can only unzip a zipped tuple once before it's removed from memory\n",
    "#so make sure you unzip it into a list right away\n",
    "\n",
    "coordinates = list(lat_lngs)"
   ]
  },
  {
   "cell_type": "code",
   "execution_count": 9,
   "metadata": {},
   "outputs": [],
   "source": [
    "#We need to use the citypy module to access the closest cities to given coordinate\n",
    "#Went to anaconda prompt(python data) installed citpy with \"pip install citipy\"\n",
    "#https://github.com/wingchen/citipy for inf0\n",
    "from citipy import citipy\n"
   ]
  },
  {
   "cell_type": "code",
   "execution_count": null,
   "metadata": {},
   "outputs": [],
   "source": [
    "#create a list for holding cities\n",
    "\n",
    "cities = []\n",
    "\n",
    "#identify the nearest city for each latitude and longitude combination\n",
    "for coordinate in coordinates:\n",
    "    city = citipy.nearest_city(coordinate[0], coordinate[1]).city_name\n",
    "    \n",
    "    #if the city is unique, add it to the cities list\n",
    "    if city not in cities:\n",
    "        cities.append(city)\n",
    "#print the city co"
   ]
  },
  {
   "cell_type": "code",
   "execution_count": null,
   "metadata": {},
   "outputs": [],
   "source": []
  }
 ],
 "metadata": {
  "kernelspec": {
   "display_name": "PythonData",
   "language": "python",
   "name": "pythondata"
  },
  "language_info": {
   "codemirror_mode": {
    "name": "ipython",
    "version": 3
   },
   "file_extension": ".py",
   "mimetype": "text/x-python",
   "name": "python",
   "nbconvert_exporter": "python",
   "pygments_lexer": "ipython3",
   "version": "3.7.9"
  }
 },
 "nbformat": 4,
 "nbformat_minor": 4
}
