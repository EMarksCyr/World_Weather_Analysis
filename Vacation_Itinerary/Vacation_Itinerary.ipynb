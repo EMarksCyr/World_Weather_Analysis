{
 "cells": [
  {
   "cell_type": "markdown",
   "metadata": {},
   "source": [
    "## Deliverable 3. Create a Travel Itinerary Map."
   ]
  },
  {
   "cell_type": "code",
   "execution_count": 1,
   "metadata": {},
   "outputs": [],
   "source": [
    "# Dependencies and Setup\n",
    "import pandas as pd\n",
    "import requests\n",
    "import gmaps\n",
    "\n",
    "# Import API key\n",
    "from config import g_key\n",
    "\n",
    "# Configure gmaps\n",
    "gmaps.configure(api_key=g_key)"
   ]
  },
  {
   "cell_type": "code",
   "execution_count": 2,
   "metadata": {},
   "outputs": [
    {
     "data": {
      "text/html": [
       "<div>\n",
       "<style scoped>\n",
       "    .dataframe tbody tr th:only-of-type {\n",
       "        vertical-align: middle;\n",
       "    }\n",
       "\n",
       "    .dataframe tbody tr th {\n",
       "        vertical-align: top;\n",
       "    }\n",
       "\n",
       "    .dataframe thead th {\n",
       "        text-align: right;\n",
       "    }\n",
       "</style>\n",
       "<table border=\"1\" class=\"dataframe\">\n",
       "  <thead>\n",
       "    <tr style=\"text-align: right;\">\n",
       "      <th></th>\n",
       "      <th>City_ID</th>\n",
       "      <th>City</th>\n",
       "      <th>Country</th>\n",
       "      <th>Max Temp</th>\n",
       "      <th>Current Description</th>\n",
       "      <th>Lat</th>\n",
       "      <th>Lng</th>\n",
       "      <th>Hotel Name</th>\n",
       "    </tr>\n",
       "  </thead>\n",
       "  <tbody>\n",
       "    <tr>\n",
       "      <th>0</th>\n",
       "      <td>0</td>\n",
       "      <td>Mahebourg</td>\n",
       "      <td>MU</td>\n",
       "      <td>80.60</td>\n",
       "      <td>light rain</td>\n",
       "      <td>-20.41</td>\n",
       "      <td>57.70</td>\n",
       "      <td>Shandrani Beachcomber Resort &amp; Spa</td>\n",
       "    </tr>\n",
       "    <tr>\n",
       "      <th>1</th>\n",
       "      <td>1</td>\n",
       "      <td>Khurda</td>\n",
       "      <td>IN</td>\n",
       "      <td>82.40</td>\n",
       "      <td>haze</td>\n",
       "      <td>20.18</td>\n",
       "      <td>85.62</td>\n",
       "      <td>Bagbaan Villa</td>\n",
       "    </tr>\n",
       "    <tr>\n",
       "      <th>2</th>\n",
       "      <td>4</td>\n",
       "      <td>Hobyo</td>\n",
       "      <td>SO</td>\n",
       "      <td>82.96</td>\n",
       "      <td>overcast clouds</td>\n",
       "      <td>5.35</td>\n",
       "      <td>48.53</td>\n",
       "      <td>Halane Hotel and Restaurent</td>\n",
       "    </tr>\n",
       "    <tr>\n",
       "      <th>3</th>\n",
       "      <td>5</td>\n",
       "      <td>Puerto Baquerizo Moreno</td>\n",
       "      <td>EC</td>\n",
       "      <td>78.80</td>\n",
       "      <td>broken clouds</td>\n",
       "      <td>-0.90</td>\n",
       "      <td>-89.60</td>\n",
       "      <td>Hotel los Algarrobos</td>\n",
       "    </tr>\n",
       "    <tr>\n",
       "      <th>4</th>\n",
       "      <td>6</td>\n",
       "      <td>Port Blair</td>\n",
       "      <td>IN</td>\n",
       "      <td>82.44</td>\n",
       "      <td>overcast clouds</td>\n",
       "      <td>11.67</td>\n",
       "      <td>92.75</td>\n",
       "      <td>Welcomhotel Bay Island Port Blair</td>\n",
       "    </tr>\n",
       "  </tbody>\n",
       "</table>\n",
       "</div>"
      ],
      "text/plain": [
       "   City_ID                     City Country  Max Temp Current Description  \\\n",
       "0        0                Mahebourg      MU     80.60          light rain   \n",
       "1        1                   Khurda      IN     82.40                haze   \n",
       "2        4                    Hobyo      SO     82.96     overcast clouds   \n",
       "3        5  Puerto Baquerizo Moreno      EC     78.80       broken clouds   \n",
       "4        6               Port Blair      IN     82.44     overcast clouds   \n",
       "\n",
       "     Lat    Lng                          Hotel Name  \n",
       "0 -20.41  57.70  Shandrani Beachcomber Resort & Spa  \n",
       "1  20.18  85.62                       Bagbaan Villa  \n",
       "2   5.35  48.53         Halane Hotel and Restaurent  \n",
       "3  -0.90 -89.60                Hotel los Algarrobos  \n",
       "4  11.67  92.75   Welcomhotel Bay Island Port Blair  "
      ]
     },
     "execution_count": 2,
     "metadata": {},
     "output_type": "execute_result"
    }
   ],
   "source": [
    "# 1. Read the WeatherPy_vacation.csv into a DataFrame.\n",
    "vacation_df = pd.read_csv(\"../Vacation_Search/WeatherPy_vacation.csv\")\n",
    "vacation_df.head()"
   ]
  },
  {
   "cell_type": "code",
   "execution_count": null,
   "metadata": {},
   "outputs": [],
   "source": []
  },
  {
   "cell_type": "code",
   "execution_count": 3,
   "metadata": {},
   "outputs": [],
   "source": [
    "# 2. Using the template add the city name, the country code, the weather description and maximum temperature for the city.\n",
    "info_box_template = \"\"\"\n",
    "<dl>\n",
    "<dt>City</dt><dd>{City}</dd>\n",
    "<dt>Country</dt><dd>{Country}</dd>\n",
    "<dt>Weather Description</dt><dd>{Current Description}</dd>\n",
    "<dt>Max Temp</dt><dd>{Max Temp} °F</dd>\n",
    "</dl>\n",
    "\n",
    "\"\"\"\n",
    "#print(hotel_info[0])\n",
    "# 3a. Get the data from each row and add it to the formatting template and store the data in a list.\n",
    "hotel_info = [info_box_template.format(**row) for index, row in vacation_df.iterrows()]\n",
    "\n",
    "# 3b. Get the latitude and longitude from each row and store in a new DataFrame.\n",
    "locations = vacation_df[[\"Lat\", \"Lng\"]]"
   ]
  },
  {
   "cell_type": "code",
   "execution_count": 4,
   "metadata": {},
   "outputs": [
    {
     "data": {
      "application/vnd.jupyter.widget-view+json": {
       "model_id": "d86b0370b6e549d89f1342b76b5f1f65",
       "version_major": 2,
       "version_minor": 0
      },
      "text/plain": [
       "Figure(layout=FigureLayout(height='420px'))"
      ]
     },
     "metadata": {},
     "output_type": "display_data"
    }
   ],
   "source": [
    "# 4a. Add a marker layer for each city to the map.\n",
    "fig = gmaps.figure(center=(30.0, 31.0), zoom_level=1.5)\n",
    "marker_layer = gmaps.marker_layer(locations, info_box_content=hotel_info)\n",
    "fig.add_layer(marker_layer)\n",
    "# 4b. Display the figure\n",
    "fig\n"
   ]
  },
  {
   "cell_type": "code",
   "execution_count": 36,
   "metadata": {},
   "outputs": [
    {
     "data": {
      "text/html": [
       "<div>\n",
       "<style scoped>\n",
       "    .dataframe tbody tr th:only-of-type {\n",
       "        vertical-align: middle;\n",
       "    }\n",
       "\n",
       "    .dataframe tbody tr th {\n",
       "        vertical-align: top;\n",
       "    }\n",
       "\n",
       "    .dataframe thead th {\n",
       "        text-align: right;\n",
       "    }\n",
       "</style>\n",
       "<table border=\"1\" class=\"dataframe\">\n",
       "  <thead>\n",
       "    <tr style=\"text-align: right;\">\n",
       "      <th></th>\n",
       "      <th>City_ID</th>\n",
       "      <th>City</th>\n",
       "      <th>Country</th>\n",
       "      <th>Max Temp</th>\n",
       "      <th>Current Description</th>\n",
       "      <th>Lat</th>\n",
       "      <th>Lng</th>\n",
       "      <th>Hotel Name</th>\n",
       "    </tr>\n",
       "  </thead>\n",
       "  <tbody>\n",
       "    <tr>\n",
       "      <th>278</th>\n",
       "      <td>417</td>\n",
       "      <td>Viana</td>\n",
       "      <td>BR</td>\n",
       "      <td>84.2</td>\n",
       "      <td>clear sky</td>\n",
       "      <td>-20.39</td>\n",
       "      <td>-40.5</td>\n",
       "      <td>Sítio Gava</td>\n",
       "    </tr>\n",
       "  </tbody>\n",
       "</table>\n",
       "</div>"
      ],
      "text/plain": [
       "     City_ID   City Country  Max Temp Current Description    Lat   Lng  \\\n",
       "278      417  Viana      BR      84.2           clear sky -20.39 -40.5   \n",
       "\n",
       "     Hotel Name  \n",
       "278  Sítio Gava  "
      ]
     },
     "execution_count": 36,
     "metadata": {},
     "output_type": "execute_result"
    }
   ],
   "source": [
    "# From the map above pick 4 cities and create a vacation itinerary route to travel between the four cities. \n",
    "# 5. Create DataFrames for each city by filtering the 'vacation_df' using the loc method. \n",
    "# Hint: The starting and ending city should be the same city.\n",
    "\n",
    "vacation_start = vacation_df.loc[vacation_df[\"City\"] == \"Viana\"]\n",
    "vacation_end = vacation_df.loc[vacation_df[\"City\"] == \"Viana\"]\n",
    "vacation_stop1 = vacation_df.loc[vacation_df[\"City\"] == \"Vila Velha\"]\n",
    "vacation_stop2 = vacation_df.loc[vacation_df[\"City\"] == \"Sao Joao Da Barra\"] \n",
    "vacation_stop3 = vacation_df.loc[vacation_df[\"City\"] == \"Bom Jesus Do Itabapoana\"] \n",
    "vacation_start.head(10)"
   ]
  },
  {
   "cell_type": "code",
   "execution_count": 39,
   "metadata": {},
   "outputs": [
    {
     "name": "stdout",
     "output_type": "stream",
     "text": [
      "(-20.39, -40.5) (-20.39, -40.5) (-20.33, -40.29) (-21.64, -41.05) (-21.13, -41.68)\n"
     ]
    }
   ],
   "source": [
    "# 6. Get the latitude-longitude pairs as tuples from each city DataFrame using the to_numpy function and list indexing.\n",
    "start_lat = vacation_start[\"Lat\"].to_numpy()\n",
    "start_lng = vacation_start[\"Lng\"].to_numpy()\n",
    "#vacation start\n",
    "start_lat = vacation_start[\"Lat\"].to_numpy()\n",
    "start_lng = vacation_start[\"Lng\"].to_numpy()\n",
    "\n",
    "#vacation end\n",
    "end_lat = vacation_end[\"Lat\"].to_numpy()\n",
    "end_lng = vacation_end[\"Lng\"].to_numpy()\n",
    "\n",
    "#stop 1\n",
    "stop1_lat = vacation_stop1[\"Lat\"].to_numpy()\n",
    "stop1_lng = vacation_stop1[\"Lng\"].to_numpy()\n",
    "\n",
    "#stop 2\n",
    "stop2_lat = vacation_stop2[\"Lat\"].to_numpy()\n",
    "stop2_lng = vacation_stop2[\"Lng\"].to_numpy()\n",
    "\n",
    "#stop 3\n",
    "stop3_lat = vacation_stop3[\"Lat\"].to_numpy()\n",
    "stop3_lng = vacation_stop3[\"Lng\"].to_numpy()\n",
    "\n",
    "start = (start_lat[0], start_lng[0]) \n",
    "end = (end_lat[0], end_lng[0])\n",
    "stop1 = (stop1_lat[0], stop1_lng[0])\n",
    "stop2 = (stop2_lat[0], stop2_lng[0])\n",
    "stop3 = (stop3_lat[0], stop3_lng[0])\n",
    "\n",
    "print(start, end, stop1, stop2, stop3)\n"
   ]
  },
  {
   "cell_type": "code",
   "execution_count": 41,
   "metadata": {
    "scrolled": false
   },
   "outputs": [
    {
     "data": {
      "application/vnd.jupyter.widget-view+json": {
       "model_id": "e1a0089d2a02445599aa779cb2a1cb0b",
       "version_major": 2,
       "version_minor": 0
      },
      "text/plain": [
       "Figure(layout=FigureLayout(height='420px'))"
      ]
     },
     "metadata": {},
     "output_type": "display_data"
    }
   ],
   "source": [
    "# 7. Create a direction layer map using the start and end latitude-longitude pairs,\n",
    "# and stop1, stop2, and stop3 as the waypoints. The travel_mode should be \"DRIVING\", \"BICYCLING\", or \"WALKING\".\n",
    "fig = gmaps.figure()\n",
    "itinerary = gmaps.directions_layer(start, end, waypoints=[stop1, stop2, stop3], travel_mode='BICYCLING')\n",
    "fig.add_layer(itinerary)\n",
    "fig\n"
   ]
  },
  {
   "cell_type": "code",
   "execution_count": 45,
   "metadata": {},
   "outputs": [
    {
     "data": {
      "text/html": [
       "<div>\n",
       "<style scoped>\n",
       "    .dataframe tbody tr th:only-of-type {\n",
       "        vertical-align: middle;\n",
       "    }\n",
       "\n",
       "    .dataframe tbody tr th {\n",
       "        vertical-align: top;\n",
       "    }\n",
       "\n",
       "    .dataframe thead th {\n",
       "        text-align: right;\n",
       "    }\n",
       "</style>\n",
       "<table border=\"1\" class=\"dataframe\">\n",
       "  <thead>\n",
       "    <tr style=\"text-align: right;\">\n",
       "      <th></th>\n",
       "      <th>City_ID</th>\n",
       "      <th>City</th>\n",
       "      <th>Country</th>\n",
       "      <th>Max Temp</th>\n",
       "      <th>Current Description</th>\n",
       "      <th>Lat</th>\n",
       "      <th>Lng</th>\n",
       "      <th>Hotel Name</th>\n",
       "    </tr>\n",
       "  </thead>\n",
       "  <tbody>\n",
       "    <tr>\n",
       "      <th>0</th>\n",
       "      <td>417</td>\n",
       "      <td>Viana</td>\n",
       "      <td>BR</td>\n",
       "      <td>84.20</td>\n",
       "      <td>clear sky</td>\n",
       "      <td>-20.39</td>\n",
       "      <td>-40.50</td>\n",
       "      <td>Sítio Gava</td>\n",
       "    </tr>\n",
       "    <tr>\n",
       "      <th>1</th>\n",
       "      <td>417</td>\n",
       "      <td>Viana</td>\n",
       "      <td>BR</td>\n",
       "      <td>84.20</td>\n",
       "      <td>clear sky</td>\n",
       "      <td>-20.39</td>\n",
       "      <td>-40.50</td>\n",
       "      <td>Sítio Gava</td>\n",
       "    </tr>\n",
       "    <tr>\n",
       "      <th>2</th>\n",
       "      <td>569</td>\n",
       "      <td>Vila Velha</td>\n",
       "      <td>BR</td>\n",
       "      <td>84.20</td>\n",
       "      <td>clear sky</td>\n",
       "      <td>-20.33</td>\n",
       "      <td>-40.29</td>\n",
       "      <td>Quality Suites Vila Velha</td>\n",
       "    </tr>\n",
       "    <tr>\n",
       "      <th>3</th>\n",
       "      <td>176</td>\n",
       "      <td>Sao Joao Da Barra</td>\n",
       "      <td>BR</td>\n",
       "      <td>86.00</td>\n",
       "      <td>few clouds</td>\n",
       "      <td>-21.64</td>\n",
       "      <td>-41.05</td>\n",
       "      <td>Pousada Porto De Canoas</td>\n",
       "    </tr>\n",
       "    <tr>\n",
       "      <th>4</th>\n",
       "      <td>513</td>\n",
       "      <td>Bom Jesus Do Itabapoana</td>\n",
       "      <td>BR</td>\n",
       "      <td>84.15</td>\n",
       "      <td>clear sky</td>\n",
       "      <td>-21.13</td>\n",
       "      <td>-41.68</td>\n",
       "      <td>Pitucão Hotel e Restaurante</td>\n",
       "    </tr>\n",
       "  </tbody>\n",
       "</table>\n",
       "</div>"
      ],
      "text/plain": [
       "   City_ID                     City Country  Max Temp Current Description  \\\n",
       "0      417                    Viana      BR     84.20           clear sky   \n",
       "1      417                    Viana      BR     84.20           clear sky   \n",
       "2      569               Vila Velha      BR     84.20           clear sky   \n",
       "3      176        Sao Joao Da Barra      BR     86.00          few clouds   \n",
       "4      513  Bom Jesus Do Itabapoana      BR     84.15           clear sky   \n",
       "\n",
       "     Lat    Lng                   Hotel Name  \n",
       "0 -20.39 -40.50                   Sítio Gava  \n",
       "1 -20.39 -40.50                   Sítio Gava  \n",
       "2 -20.33 -40.29    Quality Suites Vila Velha  \n",
       "3 -21.64 -41.05      Pousada Porto De Canoas  \n",
       "4 -21.13 -41.68  Pitucão Hotel e Restaurante  "
      ]
     },
     "execution_count": 45,
     "metadata": {},
     "output_type": "execute_result"
    }
   ],
   "source": [
    "# 8. To create a marker layer map between the four cities.\n",
    "#  Combine the four city DataFrames into one DataFrame using the concat() function.\n",
    "itinerary_df = pd.concat([vacation_start, vacation_end, vacation_stop1, vacation_stop2, vacation_stop3],ignore_index=True)\n",
    "itinerary_df"
   ]
  },
  {
   "cell_type": "code",
   "execution_count": 46,
   "metadata": {},
   "outputs": [],
   "source": [
    "# 9 Using the template add city name, the country code, the weather description and maximum temperature for the city. \n",
    "info_box_template = \"\"\"\n",
    "<dl>\n",
    "<dt>City</dt><dd>{City}</dd>\n",
    "<dt>Country</dt><dd>{Country}</dd>\n",
    "<dt>Weather Description</dt><dd>{Current Description}</dd>\n",
    "<dt>Max Temp</dt><dd>{Max Temp} °F</dd>\n",
    "</dl>\n",
    "\n",
    "\"\"\"\n",
    "\n",
    "# 10a Get the data from each row and add it to the formatting template and store the data in a list.\n",
    "hotel_info = [info_box_template.format(**row) for index, row in itinerary_df.iterrows()]\n",
    "\n",
    "# 10b. Get the latitude and longitude from each row and store in a new DataFrame.\n",
    "locations = itinerary_df[[\"Lat\", \"Lng\"]]"
   ]
  },
  {
   "cell_type": "code",
   "execution_count": 47,
   "metadata": {},
   "outputs": [
    {
     "data": {
      "application/vnd.jupyter.widget-view+json": {
       "model_id": "783292624f66427ead27f36b7e6f4dd0",
       "version_major": 2,
       "version_minor": 0
      },
      "text/plain": [
       "Figure(layout=FigureLayout(height='420px'))"
      ]
     },
     "metadata": {},
     "output_type": "display_data"
    }
   ],
   "source": [
    "# 11a. Add a marker layer for each city to the map.\n",
    "fig = gmaps.figure(center=(30.0, 31.0), zoom_level=1.5)\n",
    "marker_layer = gmaps.marker_layer(locations, info_box_content=hotel_info)\n",
    "fig.add_layer(marker_layer)\n",
    "\n",
    "# 11b. Display the figure\n",
    "fig"
   ]
  },
  {
   "cell_type": "code",
   "execution_count": null,
   "metadata": {},
   "outputs": [],
   "source": []
  }
 ],
 "metadata": {
  "kernelspec": {
   "display_name": "PythonData",
   "language": "python",
   "name": "pythondata"
  },
  "language_info": {
   "codemirror_mode": {
    "name": "ipython",
    "version": 3
   },
   "file_extension": ".py",
   "mimetype": "text/x-python",
   "name": "python",
   "nbconvert_exporter": "python",
   "pygments_lexer": "ipython3",
   "version": "3.7.9"
  },
  "latex_envs": {
   "LaTeX_envs_menu_present": true,
   "autoclose": false,
   "autocomplete": true,
   "bibliofile": "biblio.bib",
   "cite_by": "apalike",
   "current_citInitial": 1,
   "eqLabelWithNumbers": true,
   "eqNumInitial": 1,
   "hotkeys": {
    "equation": "Ctrl-E",
    "itemize": "Ctrl-I"
   },
   "labels_anchors": false,
   "latex_user_defs": false,
   "report_style_numbering": false,
   "user_envs_cfg": false
  }
 },
 "nbformat": 4,
 "nbformat_minor": 2
}
