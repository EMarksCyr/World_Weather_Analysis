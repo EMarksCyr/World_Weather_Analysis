{
 "cells": [
  {
   "cell_type": "code",
   "execution_count": 1,
   "metadata": {},
   "outputs": [],
   "source": [
    "#import the random module which is part of the Python and Anaconda installation\n",
    "import random\n",
    "import timeit"
   ]
  },
  {
   "cell_type": "code",
   "execution_count": 3,
   "metadata": {},
   "outputs": [
    {
     "data": {
      "text/plain": [
       "76"
      ]
     },
     "execution_count": 3,
     "metadata": {},
     "output_type": "execute_result"
    }
   ],
   "source": [
    "#use randint function of random to get a random integer\n",
    "random.randint(-90,90)"
   ]
  },
  {
   "cell_type": "code",
   "execution_count": 4,
   "metadata": {},
   "outputs": [
    {
     "data": {
      "text/plain": [
       "0.4631429390880488"
      ]
     },
     "execution_count": 4,
     "metadata": {},
     "output_type": "execute_result"
    }
   ],
   "source": [
    "#use random function of random to get a single floating point decimal number between 0 and 1.0\n",
    "random.random()"
   ]
  },
  {
   "cell_type": "code",
   "execution_count": 5,
   "metadata": {},
   "outputs": [
    {
     "data": {
      "text/plain": [
       "-37.3177577999642"
      ]
     },
     "execution_count": 5,
     "metadata": {},
     "output_type": "execute_result"
    }
   ],
   "source": [
    "#add the output from the randint and random functions together to generate a floating point decimal between the range specified in the randint function\n",
    "random_number = random.randint(-90,89) + random.random()\n",
    "random_number"
   ]
  },
  {
   "cell_type": "code",
   "execution_count": 8,
   "metadata": {},
   "outputs": [
    {
     "data": {
      "text/plain": [
       "[-65.90216268512584,\n",
       " -28.515743205728313,\n",
       " 17.784459582563176,\n",
       " 47.28617663592144,\n",
       " 74.59079626554355,\n",
       " 84.18610670682114,\n",
       " 81.79306998546046,\n",
       " 44.39294311589374,\n",
       " -66.3614301078037,\n",
       " 23.36589645262124]"
      ]
     },
     "execution_count": 8,
     "metadata": {},
     "output_type": "execute_result"
    }
   ],
   "source": [
    "#generate ten randomg floating-point decimals between -90 and 89 for the latitudes\n",
    "\n",
    "#assing a variable x to 1\n",
    "x = 1\n",
    "\n",
    "#initialize an empty list\n",
    "latitudes = []\n",
    "\n",
    "#use a while loop to generate a random latitude and add it to the list \n",
    "while x < 11:\n",
    "    random_lat = random.randint(-90,89) + random.random()\n",
    "    latitudes.append(random_lat)\n",
    "    x += 1\n",
    " \n",
    "latitudes"
   ]
  },
  {
   "cell_type": "code",
   "execution_count": 9,
   "metadata": {},
   "outputs": [
    {
     "data": {
      "text/plain": [
       "-6"
      ]
     },
     "execution_count": 9,
     "metadata": {},
     "output_type": "execute_result"
    }
   ],
   "source": [
    "#use randrange to get a list of random longitudes but use randrange since it's more efficient \n",
    "#randrange returns a while integer between the interval where the step is the difference between each number in the sequence\n",
    "random.randrange(-90,90, step =3)"
   ]
  },
  {
   "cell_type": "code",
   "execution_count": 10,
   "metadata": {},
   "outputs": [
    {
     "data": {
      "text/plain": [
       "-30.86073159102675"
      ]
     },
     "execution_count": 10,
     "metadata": {},
     "output_type": "execute_result"
    }
   ],
   "source": [
    "#the uniform function allows us to  generate a floating-point decimal number between two given numbers inside the parentheses\n",
    "random.uniform(-90,90)"
   ]
  },
  {
   "cell_type": "code",
   "execution_count": 11,
   "metadata": {},
   "outputs": [],
   "source": [
    "#recall, numpy is a numerical mathematics library that can be used to make arrays or matrices of numbers\n",
    "#we can use it to generate the thousand plus latitudes and longitudes we need\n",
    "\n",
    "#import the numPy module as np\n",
    "\n",
    "import numpy as np"
   ]
  },
  {
   "cell_type": "code",
   "execution_count": 12,
   "metadata": {},
   "outputs": [
    {
     "data": {
      "text/plain": [
       "61.555876286602796"
      ]
     },
     "execution_count": 12,
     "metadata": {},
     "output_type": "execute_result"
    }
   ],
   "source": [
    "#generate floating-point decimal numbers, now our boundaries can be floating-point decimal integers\n",
    "np.random.uniform(-90.000, 90.000)"
   ]
  },
  {
   "cell_type": "code",
   "execution_count": 13,
   "metadata": {},
   "outputs": [
    {
     "data": {
      "text/plain": [
       "array([ 14.03046217, -80.89016704,  11.74559764,   4.98105758,\n",
       "        41.25469383, -71.62180962,  57.91828519,  40.46542637,\n",
       "        46.3264583 ,  51.88650453,  15.7709124 , -84.76438928,\n",
       "       -43.1253286 ,  25.3406532 ,  17.05009409,  45.83628002,\n",
       "       -36.05047314,  30.05016326,   3.54291198, -78.58660202,\n",
       "        37.13568468,  10.08981763,  18.02611003,  49.57284751,\n",
       "        34.33028176,  68.39337435,  59.41544052, -48.33424311,\n",
       "        49.51687636, -13.64741936, -55.6527064 , -65.65494889,\n",
       "       -58.48293794, -27.86647841,  34.50957241, -32.71806583,\n",
       "       -14.51964405, -87.59178378,  88.25814334,  17.17794605,\n",
       "       -67.05507133,  36.12890325,  71.48417795,  83.44224276,\n",
       "        56.6070334 , -51.63528174, -35.34393107,  57.82476799,\n",
       "        45.01726688,  63.76306259])"
      ]
     },
     "execution_count": 13,
     "metadata": {},
     "output_type": "execute_result"
    }
   ],
   "source": [
    "#also, now that we are using numpy we can add a size parameter for how many numbers we want instead of having to use a while loop\n",
    "np.random.uniform(-90.000,90.000, size=50)"
   ]
  },
  {
   "cell_type": "code",
   "execution_count": 16,
   "metadata": {},
   "outputs": [
    {
     "name": "stdout",
     "output_type": "stream",
     "text": [
      "15.7 µs ± 159 ns per loop (mean ± std. dev. of 7 runs, 100000 loops each)\n"
     ]
    }
   ],
   "source": [
    "#you can time how long your code takes by importing timeit and adding %timeit to your code\n",
    "\n",
    "#using numpy:\n",
    "\n",
    "%timeit np.random.uniform(-90.000,90.000, size=1500)"
   ]
  },
  {
   "cell_type": "code",
   "execution_count": 17,
   "metadata": {},
   "outputs": [
    {
     "name": "stdout",
     "output_type": "stream",
     "text": [
      "1.68 ms ± 50.3 µs per loop (mean ± std. dev. of 7 runs, 1000 loops each)\n"
     ]
    }
   ],
   "source": [
    "#using a while loop\n",
    "\n",
    "def latitudes(size):\n",
    "    latitudes = []\n",
    "    x = 0\n",
    "    while x < (size):\n",
    "        random_lat = random.randint(-90, 90) + random.random()\n",
    "        latitudes.append(random_lat)\n",
    "        x += 1\n",
    "    return latitudes\n",
    "# Call the function with 1500.\n",
    "%timeit latitudes(1500)"
   ]
  },
  {
   "cell_type": "code",
   "execution_count": null,
   "metadata": {},
   "outputs": [],
   "source": [
    "#using numpy is 100 times faster"
   ]
  },
  {
   "cell_type": "code",
   "execution_count": 23,
   "metadata": {},
   "outputs": [
    {
     "name": "stdout",
     "output_type": "stream",
     "text": [
      "1.67 ms ± 58.5 µs per loop (mean ± std. dev. of 7 runs, 1000 loops each)\n"
     ]
    }
   ],
   "source": [
    ",#using a for loop\n",
    "\n",
    "def latitudes(size):\n",
    "    latitudes = []\n",
    "    for x in range(size):\n",
    "    #if I had wanted it to go from 1 to 1500, which would have only produced 1499 numbers\n",
    "    #for x in range(1, size)  \n",
    "        random_lat = random.randint(-90, 90) + random.random()\n",
    "        latitudes.append(random_lat)\n",
    "    return latitudes\n",
    "# Call the function with 1500.\n",
    "%timeit latitudes(1500)"
   ]
  },
  {
   "cell_type": "code",
   "execution_count": null,
   "metadata": {},
   "outputs": [],
   "source": []
  }
 ],
 "metadata": {
  "kernelspec": {
   "display_name": "PythonData",
   "language": "python",
   "name": "pythondata"
  },
  "language_info": {
   "codemirror_mode": {
    "name": "ipython",
    "version": 3
   },
   "file_extension": ".py",
   "mimetype": "text/x-python",
   "name": "python",
   "nbconvert_exporter": "python",
   "pygments_lexer": "ipython3",
   "version": "3.7.9"
  }
 },
 "nbformat": 4,
 "nbformat_minor": 4
}
